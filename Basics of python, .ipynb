{
 "cells": [
  {
   "cell_type": "code",
   "execution_count": 1,
   "id": "e09f54a1",
   "metadata": {},
   "outputs": [
    {
     "data": {
      "text/plain": [
       "bool"
      ]
     },
     "execution_count": 1,
     "metadata": {},
     "output_type": "execute_result"
    }
   ],
   "source": [
    "type(True)"
   ]
  },
  {
   "cell_type": "code",
   "execution_count": 2,
   "id": "8fb3b4b3",
   "metadata": {},
   "outputs": [
    {
     "data": {
      "text/plain": [
       "int"
      ]
     },
     "execution_count": 2,
     "metadata": {},
     "output_type": "execute_result"
    }
   ],
   "source": [
    "type(1)"
   ]
  },
  {
   "cell_type": "code",
   "execution_count": 3,
   "id": "71482336",
   "metadata": {},
   "outputs": [
    {
     "data": {
      "text/plain": [
       "str"
      ]
     },
     "execution_count": 3,
     "metadata": {},
     "output_type": "execute_result"
    }
   ],
   "source": [
    "type('$')"
   ]
  },
  {
   "cell_type": "code",
   "execution_count": 4,
   "id": "d11e6698",
   "metadata": {},
   "outputs": [
    {
     "data": {
      "text/plain": [
       "float"
      ]
     },
     "execution_count": 4,
     "metadata": {},
     "output_type": "execute_result"
    }
   ],
   "source": [
    "type(2.7)"
   ]
  },
  {
   "cell_type": "code",
   "execution_count": 8,
   "id": "cfabd9ed",
   "metadata": {},
   "outputs": [],
   "source": [
    "# hello world"
   ]
  },
  {
   "cell_type": "code",
   "execution_count": 5,
   "id": "5c8a951a",
   "metadata": {},
   "outputs": [
    {
     "name": "stdout",
     "output_type": "stream",
     "text": [
      "50 is greater than or equal to 10\n"
     ]
    }
   ],
   "source": [
    "i = 50\n",
    "if i < 10:\n",
    "    print(i,'is less than 10')\n",
    "    print('run this also')\n",
    "else:\n",
    "     print(i,'is greater than or equal to 10')"
   ]
  },
  {
   "cell_type": "code",
   "execution_count": 25,
   "id": "eb06dd69",
   "metadata": {},
   "outputs": [
    {
     "name": "stdout",
     "output_type": "stream",
     "text": [
      "8 is between 8 and 10\n"
     ]
    }
   ],
   "source": [
    "i = 8\n",
    "if i > 10:\n",
    "    print(i, 'is greater than 10')\n",
    "elif i < 3:\n",
    "     print(i, 'is less than 3')\n",
    "else:\n",
    "     print(i, 'is between 8 and 10')"
   ]
  },
  {
   "cell_type": "code",
   "execution_count": 3,
   "id": "701238ab",
   "metadata": {},
   "outputs": [
    {
     "ename": "SyntaxError",
     "evalue": "invalid syntax (<ipython-input-3-f595407e0355>, line 2)",
     "output_type": "error",
     "traceback": [
      "\u001b[1;36m  File \u001b[1;32m\"<ipython-input-3-f595407e0355>\"\u001b[1;36m, line \u001b[1;32m2\u001b[0m\n\u001b[1;33m    simple list = [0,1,4,78,90,345,890,955,1111,5593]\u001b[0m\n\u001b[1;37m           ^\u001b[0m\n\u001b[1;31mSyntaxError\u001b[0m\u001b[1;31m:\u001b[0m invalid syntax\n"
     ]
    }
   ],
   "source": [
    "counter = 0\n",
    "simple list = [0,1,4,78,90,345,890,955,1111,5593]\n",
    "for i in the simple list:\n",
    "    # the only lines that get executed in this loop are tabbed correctly\n",
    "    print(i)\n",
    "    counter = counter + 1"
   ]
  },
  {
   "cell_type": "markdown",
   "id": "82f55ef4",
   "metadata": {},
   "source": [
    "List: A collection of items of any data type. Example: X=[‘a’,2,True,’b’] \n",
    "1. Mutable (can be edited)\n",
    "2. Supports Indexing \n",
    "3. Function: list() "
   ]
  },
  {
   "cell_type": "code",
   "execution_count": 18,
   "id": "628cd819",
   "metadata": {},
   "outputs": [
    {
     "name": "stdout",
     "output_type": "stream",
     "text": [
      "['Dan', 2, 3, 4, 5, 6, 7, 'python', 2.71]\n",
      "Dan\n",
      "4\n",
      "7\n",
      "python\n",
      "5\n",
      "6\n",
      "7\n",
      "python\n",
      "2.71\n",
      "9\n",
      "[2, 3, 4]\n"
     ]
    }
   ],
   "source": [
    "simple_list = ['Dan',2,3,4,5,6,7,'python',2.71]\n",
    "print(simple_list)\n",
    "print(simple_list[0])\n",
    "print(simple_list[3])\n",
    "print(simple_list[-3])\n",
    "print(simple_list[-2])\n",
    "print(simple_list[4])\n",
    "print(simple_list[5])\n",
    "print(simple_list[6])\n",
    "print(simple_list[7])\n",
    "print(simple_list[-1])\n",
    "print((len(simple_list)))\n",
    "print(simple_list[1:-5])"
   ]
  },
  {
   "cell_type": "markdown",
   "id": "1d6a564d",
   "metadata": {},
   "source": [
    "Tuple: A collection of items of any data type \n",
    "Example: X=(‘a’,2,True,’b’) \n",
    "1. Immutable (Cannot be edited) \n",
    "2. Supports Indexing \n",
    "3. Function: tuple() "
   ]
  },
  {
   "cell_type": "markdown",
   "id": "b0cb099d",
   "metadata": {},
   "source": [
    "# simple_tuple = (8,6,3.6,90,45,98)\n",
    "simple_tuple\n",
    "print((len(simple_tuple)))\n"
   ]
  },
  {
   "cell_type": "markdown",
   "id": "9a86fa42",
   "metadata": {},
   "source": [
    "Set: A set-in python is like a mathematical set. It does not hold duplicate values and arranges in ascending order.\n",
    "Example: X={1,2,3,4} \n",
    "1. Mutable (can be edited) \n",
    "2. Does not Supports Indexing in python \n",
    "3. Function: set() "
   ]
  },
  {
   "cell_type": "code",
   "execution_count": 34,
   "id": "8a499950",
   "metadata": {},
   "outputs": [
    {
     "name": "stdout",
     "output_type": "stream",
     "text": [
      "{1, 2.7, 2, 9029, 'python', 29}\n",
      "True\n",
      "{1, 2.7, 2, 9029, 29}\n",
      "{1, 2.7, 2, 9029, 'python', 29}\n",
      "6\n"
     ]
    }
   ],
   "source": [
    "simple_set = {1,'python',2.7,2,29,9029,1}\n",
    "print(simple_set)\n",
    "print('python' in simple_set)\n",
    "simple_set.remove('python')\n",
    "print(simple_set)\n",
    "simple_set.add('python')\n",
    "print(simple_set)\n",
    "print((len(simple_set)))\n"
   ]
  },
  {
   "cell_type": "markdown",
   "id": "b3d234c0",
   "metadata": {},
   "source": [
    "A Python dictionary contains key-value pairs just like a real-world dictionary has word and its meaning pair.\n",
    "Example: X= {1:’Jan’, 2:’Feb’, 3:’Mar’} \n",
    "1. Mutable (can be edited) \n",
    "2. Supports Indexing using keys \n",
    "3. Function: dict() \n"
   ]
  },
  {
   "cell_type": "code",
   "execution_count": 10,
   "id": "abd57d4f",
   "metadata": {},
   "outputs": [
    {
     "name": "stdout",
     "output_type": "stream",
     "text": [
      "{'brand': 'Apple', 'product': 'iPhone', 'model': 'X'}\n",
      "I bought an iPhone model X from Apple\n"
     ]
    }
   ],
   "source": [
    "simple_dict = {\n",
    "    \"brand\" : \"Apple\",\n",
    "    \"product\" : \"iPhone\",\n",
    "    \"model\" : \"X\"\n",
    "}\n",
    "print(simple_dict)\n",
    "print('I bought an', simple_dict['product'],\"model\",simple_dict['model'],'from',simple_dict['brand'] )"
   ]
  },
  {
   "cell_type": "code",
   "execution_count": 32,
   "id": "7ca3e033",
   "metadata": {},
   "outputs": [
    {
     "data": {
      "text/plain": [
       "25"
      ]
     },
     "execution_count": 32,
     "metadata": {},
     "output_type": "execute_result"
    }
   ],
   "source": [
    "x=\"This is our first session\"\n",
    "x.split()\n",
    "x.upper()\n",
    "x.islower\n",
    "len(x)"
   ]
  },
  {
   "cell_type": "code",
   "execution_count": 7,
   "id": "411a24d9",
   "metadata": {},
   "outputs": [
    {
     "data": {
      "text/plain": [
       "array([1, 2, 3])"
      ]
     },
     "execution_count": 7,
     "metadata": {},
     "output_type": "execute_result"
    }
   ],
   "source": [
    "Arr=np.array([1,2,3])\n",
    "Arr"
   ]
  },
  {
   "cell_type": "code",
   "execution_count": 5,
   "id": "1fd87a8f",
   "metadata": {
    "scrolled": true
   },
   "outputs": [],
   "source": [
    "array =[10,12,14,16,18]\n",
    "\n"
   ]
  },
  {
   "cell_type": "code",
   "execution_count": 6,
   "id": "d9aee934",
   "metadata": {},
   "outputs": [],
   "source": [
    "import numpy as np\n",
    "import pandas as pd"
   ]
  },
  {
   "cell_type": "code",
   "execution_count": 3,
   "id": "699ede75",
   "metadata": {},
   "outputs": [
    {
     "data": {
      "text/html": [
       "<div>\n",
       "<style scoped>\n",
       "    .dataframe tbody tr th:only-of-type {\n",
       "        vertical-align: middle;\n",
       "    }\n",
       "\n",
       "    .dataframe tbody tr th {\n",
       "        vertical-align: top;\n",
       "    }\n",
       "\n",
       "    .dataframe thead th {\n",
       "        text-align: right;\n",
       "    }\n",
       "</style>\n",
       "<table border=\"1\" class=\"dataframe\">\n",
       "  <thead>\n",
       "    <tr style=\"text-align: right;\">\n",
       "      <th></th>\n",
       "      <th>col1</th>\n",
       "      <th>col2</th>\n",
       "    </tr>\n",
       "  </thead>\n",
       "  <tbody>\n",
       "    <tr>\n",
       "      <th>0</th>\n",
       "      <td>A</td>\n",
       "      <td>A</td>\n",
       "    </tr>\n",
       "    <tr>\n",
       "      <th>1</th>\n",
       "      <td>A</td>\n",
       "      <td>np.NaN</td>\n",
       "    </tr>\n",
       "    <tr>\n",
       "      <th>2</th>\n",
       "      <td>B</td>\n",
       "      <td>9</td>\n",
       "    </tr>\n",
       "    <tr>\n",
       "      <th>3</th>\n",
       "      <td>c</td>\n",
       "      <td>p</td>\n",
       "    </tr>\n",
       "    <tr>\n",
       "      <th>4</th>\n",
       "      <td>E</td>\n",
       "      <td>o</td>\n",
       "    </tr>\n",
       "  </tbody>\n",
       "</table>\n",
       "</div>"
      ],
      "text/plain": [
       "  col1    col2\n",
       "0    A       A\n",
       "1    A  np.NaN\n",
       "2    B       9\n",
       "3    c       p\n",
       "4    E       o"
      ]
     },
     "execution_count": 3,
     "metadata": {},
     "output_type": "execute_result"
    }
   ],
   "source": [
    "df = pd.DataFrame({'col1': ['A', 'A' ,'B', 'c','E'], 'col2' : ['A','np.NaN','9','p', 'o'],})\n",
    "df"
   ]
  },
  {
   "cell_type": "markdown",
   "id": "94b4bd55",
   "metadata": {},
   "source": [
    "The function sort values returns a data frame that is sorted on the bases of the values of the column passed in the above code in default Ascending order. DataFrame.sort_values(\"column\") "
   ]
  },
  {
   "cell_type": "code",
   "execution_count": 3,
   "id": "6b6ae557",
   "metadata": {},
   "outputs": [
    {
     "data": {
      "text/html": [
       "<div>\n",
       "<style scoped>\n",
       "    .dataframe tbody tr th:only-of-type {\n",
       "        vertical-align: middle;\n",
       "    }\n",
       "\n",
       "    .dataframe tbody tr th {\n",
       "        vertical-align: top;\n",
       "    }\n",
       "\n",
       "    .dataframe thead th {\n",
       "        text-align: right;\n",
       "    }\n",
       "</style>\n",
       "<table border=\"1\" class=\"dataframe\">\n",
       "  <thead>\n",
       "    <tr style=\"text-align: right;\">\n",
       "      <th></th>\n",
       "      <th>col1</th>\n",
       "      <th>col2</th>\n",
       "    </tr>\n",
       "  </thead>\n",
       "  <tbody>\n",
       "    <tr>\n",
       "      <th>0</th>\n",
       "      <td>A</td>\n",
       "      <td>A</td>\n",
       "    </tr>\n",
       "    <tr>\n",
       "      <th>1</th>\n",
       "      <td>A</td>\n",
       "      <td>np.NaN</td>\n",
       "    </tr>\n",
       "    <tr>\n",
       "      <th>2</th>\n",
       "      <td>B</td>\n",
       "      <td>9</td>\n",
       "    </tr>\n",
       "    <tr>\n",
       "      <th>4</th>\n",
       "      <td>E</td>\n",
       "      <td>o</td>\n",
       "    </tr>\n",
       "    <tr>\n",
       "      <th>3</th>\n",
       "      <td>c</td>\n",
       "      <td>p</td>\n",
       "    </tr>\n",
       "  </tbody>\n",
       "</table>\n",
       "</div>"
      ],
      "text/plain": [
       "  col1    col2\n",
       "0    A       A\n",
       "1    A  np.NaN\n",
       "2    B       9\n",
       "4    E       o\n",
       "3    c       p"
      ]
     },
     "execution_count": 3,
     "metadata": {},
     "output_type": "execute_result"
    }
   ],
   "source": [
    "df.sort_values(by=['col1'])"
   ]
  },
  {
   "cell_type": "markdown",
   "id": "bc2a9144",
   "metadata": {},
   "source": [
    "DataFrame.groupby(\"column\")-It is used to split the data into groups based on the values of the column given in the above code"
   ]
  },
  {
   "cell_type": "code",
   "execution_count": 9,
   "id": "e4b4c295",
   "metadata": {},
   "outputs": [
    {
     "data": {
      "text/plain": [
       "<pandas.core.groupby.generic.DataFrameGroupBy object at 0x0000021C0A1E7850>"
      ]
     },
     "execution_count": 9,
     "metadata": {},
     "output_type": "execute_result"
    }
   ],
   "source": [
    "df.groupby(\"col1\")"
   ]
  },
  {
   "cell_type": "markdown",
   "id": "1edf0634",
   "metadata": {},
   "source": [
    "In the above data frame, it will split the data frame with respect to values in col1 -like all A's will be together. now we can apply aggregate functions here -if I want to see the sum of col2 values with respect to every group of col1"
   ]
  },
  {
   "cell_type": "code",
   "execution_count": 10,
   "id": "bfd555b0",
   "metadata": {},
   "outputs": [
    {
     "data": {
      "text/plain": [
       "<pandas.core.groupby.generic.SeriesGroupBy object at 0x0000021C0A1E7880>"
      ]
     },
     "execution_count": 10,
     "metadata": {},
     "output_type": "execute_result"
    }
   ],
   "source": [
    "df.groupby(\"col1\")[\"col2\"]"
   ]
  },
  {
   "cell_type": "code",
   "execution_count": 12,
   "id": "b724e563",
   "metadata": {},
   "outputs": [
    {
     "data": {
      "text/plain": [
       "col1\n",
       "A    Anp.NaN\n",
       "B          9\n",
       "E          o\n",
       "c          p\n",
       "Name: col2, dtype: object"
      ]
     },
     "execution_count": 12,
     "metadata": {},
     "output_type": "execute_result"
    }
   ],
   "source": [
    "df.groupby(\"col1\")[\"col2\"].sum()"
   ]
  },
  {
   "cell_type": "code",
   "execution_count": 2,
   "id": "659cb5d6",
   "metadata": {},
   "outputs": [
    {
     "name": "stdout",
     "output_type": "stream",
     "text": [
      "{'brand': 'Apple', 'product': 'iPhone', 'model': 'X'}\n",
      "I bought an iPhone model X from Apple\n"
     ]
    }
   ],
   "source": [
    "simple_dict = {\n",
    "    \"brand\": \"Apple\",\n",
    "    \"product\": \"iPhone\",\n",
    "    \"model\": \"X\"\n",
    "}\n",
    "print(simple_dict)\n",
    "print('I bought an',simple_dict['product'],\"model\",simple_dict['model'],'from',simple_dict['brand'])"
   ]
  },
  {
   "cell_type": "code",
   "execution_count": 5,
   "id": "4d04cd21",
   "metadata": {},
   "outputs": [
    {
     "name": "stdout",
     "output_type": "stream",
     "text": [
      "['DSBA', -54]\n"
     ]
    }
   ],
   "source": [
    "X= [10,\"Range\", \"DSBA\", -54, 11, 12]\n",
    "print(X[2:4])\n",
    "\n"
   ]
  },
  {
   "cell_type": "code",
   "execution_count": 6,
   "id": "f53afb61",
   "metadata": {},
   "outputs": [
    {
     "name": "stdout",
     "output_type": "stream",
     "text": [
      "2\n"
     ]
    }
   ],
   "source": [
    "X= [10,\"Range\", \"DSBA\", -54, 11, 12]\n",
    "\n",
    "print(len(X[2:4]))\n",
    "\n"
   ]
  },
  {
   "cell_type": "markdown",
   "id": "e39be1ec",
   "metadata": {},
   "source": [
    "Flow control\n",
    "1. loops\n",
    "2. conditionals\n",
    "\n",
    "Loops:\n",
    "A loop is an efficient way to tell the computer to perform a command multiple times\n",
    "\n",
    "Each iteration of the loop can use new data to perform the command or depend on the previous loop\n",
    "There are 2 main types of loops: for, while\n",
    "\n"
   ]
  },
  {
   "cell_type": "markdown",
   "id": "2e543d9e",
   "metadata": {},
   "source": [
    "Conditionals \n",
    "\n",
    "There are 3 types of conditionals\n",
    "1. if statement\n",
    "2. else statement \n",
    "3. elif statement"
   ]
  },
  {
   "cell_type": "code",
   "execution_count": 7,
   "id": "e95f832d",
   "metadata": {},
   "outputs": [
    {
     "name": "stdout",
     "output_type": "stream",
     "text": [
      "30 is greater than or equal to 10\n"
     ]
    }
   ],
   "source": [
    "i = 30\n",
    "if i<10:\n",
    "    print(i,'is less than 10')\n",
    "    print('run this also')\n",
    "else:\n",
    "    print(i,'is greater than or equal to 10')"
   ]
  },
  {
   "cell_type": "code",
   "execution_count": 7,
   "id": "8615ffaf",
   "metadata": {},
   "outputs": [
    {
     "name": "stdout",
     "output_type": "stream",
     "text": [
      "3\n"
     ]
    }
   ],
   "source": [
    "i = 3\n",
    "if i > 10:\n",
    " print(i, 'is equal than 10')\n",
    "elif i<3:\n",
    " print(i, 'is less than 3')\n",
    "elif i<4:\n",
    " print(i)\n",
    "else:\n",
    " print(i, 'is between 3 and 10')"
   ]
  },
  {
   "cell_type": "code",
   "execution_count": 28,
   "id": "9d133572",
   "metadata": {},
   "outputs": [
    {
     "name": "stdout",
     "output_type": "stream",
     "text": [
      "0\n",
      "1\n",
      "2\n",
      "3\n",
      "4\n",
      "5\n",
      "6\n",
      "6\n",
      "9993\n",
      "3\n",
      "3\n",
      "4000\n",
      "this line is not inside the loop\n",
      "the loop cycled 12 times\n"
     ]
    }
   ],
   "source": [
    "counter = 0\n",
    "simple_list = [0,1,2,3,4,5,6,6,9993,3,3,4000]\n",
    "for i in simple_list:\n",
    "    # the only lines that get executed in this loop are tabbed correctly!!!\n",
    "    \n",
    "  print(i)\n",
    "  counter = counter + 1\n",
    "print('this line is not inside the loop')\n",
    "print('the loop cycled', counter, 'times')"
   ]
  },
  {
   "cell_type": "code",
   "execution_count": 30,
   "id": "34411653",
   "metadata": {},
   "outputs": [
    {
     "name": "stdout",
     "output_type": "stream",
     "text": [
      "4\n",
      "5\n",
      "6\n",
      "8\n",
      "10\n",
      "12\n",
      "12\n",
      "15\n",
      "18\n"
     ]
    }
   ],
   "source": [
    "for i in simple_list[1:4]:\n",
    "    for j in simple_list[4:7]:\n",
    "        print(i*j)"
   ]
  },
  {
   "cell_type": "code",
   "execution_count": 1,
   "id": "80ce3b88",
   "metadata": {},
   "outputs": [
    {
     "name": "stdout",
     "output_type": "stream",
     "text": [
      "Hi wordl\n",
      "ags\n"
     ]
    }
   ],
   "source": [
    "x=-1\n",
    "while x>=0:\n",
    "    print('Hello wordfg')\n",
    "else: \n",
    "    print('Hi wordl')\n",
    "    print('ags')"
   ]
  },
  {
   "cell_type": "code",
   "execution_count": null,
   "id": "576027ee",
   "metadata": {},
   "outputs": [],
   "source": []
  },
  {
   "cell_type": "code",
   "execution_count": null,
   "id": "f4476b18",
   "metadata": {},
   "outputs": [],
   "source": []
  }
 ],
 "metadata": {
  "kernelspec": {
   "display_name": "Python 3",
   "language": "python",
   "name": "python3"
  },
  "language_info": {
   "codemirror_mode": {
    "name": "ipython",
    "version": 3
   },
   "file_extension": ".py",
   "mimetype": "text/x-python",
   "name": "python",
   "nbconvert_exporter": "python",
   "pygments_lexer": "ipython3",
   "version": "3.8.10"
  }
 },
 "nbformat": 4,
 "nbformat_minor": 5
}
